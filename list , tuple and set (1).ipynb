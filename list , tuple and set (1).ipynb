{
 "cells": [
  {
   "cell_type": "markdown",
   "id": "2edce917",
   "metadata": {},
   "source": [
    "Q1. Which keyword is used to create a function? Create a function to return a list of odd numbers in the\n",
    "range of 1 to 25."
   ]
  },
  {
   "cell_type": "code",
   "execution_count": 65,
   "id": "8bae0a77",
   "metadata": {},
   "outputs": [
    {
     "name": "stdout",
     "output_type": "stream",
     "text": [
      "[1, 3, 5, 7, 9, 11, 13, 15, 17, 19, 21, 23, 25]\n"
     ]
    }
   ],
   "source": [
    "def get_odd_numbers(start, end):\n",
    "  \"\"\"Returns a list of odd numbers within a given range.\"\"\"\n",
    "  return [num for num in range(start, end + 1) if num % 2 != 0]\n",
    "\n",
    "# Example usage\n",
    "odd_numbers = get_odd_numbers(1, 25)\n",
    "print(odd_numbers)  # Output: [1, 3, 5, 7, 9, 11, 13, 15, 17, 19, 21, 23, 25]\n"
   ]
  },
  {
   "cell_type": "markdown",
   "id": "7ba68d68",
   "metadata": {},
   "source": [
    "Q2. Why *args and **kwargs is used in some functions? Create a function each for *args and **kwargs\n",
    "to demonstrate their use.\n"
   ]
  },
  {
   "cell_type": "code",
   "execution_count": 66,
   "id": "923d1bf3",
   "metadata": {},
   "outputs": [],
   "source": [
    "def sum_all(*numbers):\n",
    "  \"\"\"Calculates the sum of all provided numbers.\"\"\"\n",
    "  total = 0\n",
    "  for num in numbers:\n",
    "    total += num\n",
    "  return total\n",
    "\n",
    "result = sum_all(1, 2, 3, 4, 5)  # result will be 15\n"
   ]
  },
  {
   "cell_type": "code",
   "execution_count": 67,
   "id": "777a58c7",
   "metadata": {},
   "outputs": [
    {
     "name": "stdout",
     "output_type": "stream",
     "text": [
      "Hello, Aman!\n",
      "Good morning, Bhushan!\n"
     ]
    }
   ],
   "source": [
    "def greet(name, message=\"Hello\"):\n",
    "  \"\"\"Greets someone with a customizable message.\"\"\"\n",
    "  print(f\"{message}, {name}!\")\n",
    "\n",
    "greet(\"Aman\")  # Output: Hello, Alice!\n",
    "greet(\"Bhushan\", message=\"Good morning\")  # Output: Good morning, Bob!\n"
   ]
  },
  {
   "cell_type": "markdown",
   "id": "1500ee7e",
   "metadata": {},
   "source": [
    "Q3. What is an iterator in python? Name the method used to initialise the iterator object and the method\n",
    "used for iteration. Use these methods to print the first five elements of the given list [2, 4, 6, 8, 10, 12, 14,\n",
    "16, 18, 20].\n"
   ]
  },
  {
   "cell_type": "code",
   "execution_count": 68,
   "id": "8150294a",
   "metadata": {},
   "outputs": [
    {
     "name": "stdout",
     "output_type": "stream",
     "text": [
      "2\n",
      "4\n",
      "6\n",
      "8\n",
      "10\n"
     ]
    }
   ],
   "source": [
    "numbers = [2, 4, 6, 8, 10, 12, 14, 16, 18, 20]\n",
    "iterator = iter(numbers)  # Initialize the iterator\n",
    "\n",
    "for _ in range(5):  # Iterate 5 times\n",
    "  try:\n",
    "    print(next(iterator))  # Access elements using next()\n",
    "  except StopIteration:\n",
    "    pass  # Handle the end of iteration\n"
   ]
  },
  {
   "cell_type": "markdown",
   "id": "b9044c99",
   "metadata": {},
   "source": [
    "Q4. What is a generator function in python? Why yield keyword is used? Give an example of a generator\n",
    "function."
   ]
  },
  {
   "cell_type": "code",
   "execution_count": 69,
   "id": "a8459799",
   "metadata": {},
   "outputs": [
    {
     "name": "stdout",
     "output_type": "stream",
     "text": [
      "0\n",
      "1\n",
      "1\n",
      "2\n",
      "3\n",
      "5\n",
      "8\n",
      "13\n",
      "21\n",
      "34\n",
      "55\n",
      "89\n",
      "144\n",
      "233\n",
      "377\n",
      "610\n",
      "987\n",
      "1597\n",
      "2584\n",
      "4181\n"
     ]
    }
   ],
   "source": [
    "def fibonacci_generator():\n",
    "  \"\"\"Generates Fibonacci numbers.\"\"\"\n",
    "  a, b = 0, 1\n",
    "  while True:\n",
    "    yield a\n",
    "    a, b = b, a + b\n",
    "\n",
    "fibonacci = fibonacci_generator()\n",
    "for _ in range(20):\n",
    "  print(next(fibonacci))\n"
   ]
  },
  {
   "cell_type": "markdown",
   "id": "c3e070c5",
   "metadata": {},
   "source": [
    "Q5. Create a generator function for prime numbers less than 1000. Use the next() method to print the\n",
    "first 20 prime numbers."
   ]
  },
  {
   "cell_type": "code",
   "execution_count": 70,
   "id": "413ab1ce",
   "metadata": {},
   "outputs": [
    {
     "name": "stdout",
     "output_type": "stream",
     "text": [
      "2\n",
      "3\n",
      "5\n",
      "7\n",
      "11\n",
      "13\n",
      "17\n",
      "19\n",
      "23\n",
      "29\n",
      "31\n",
      "37\n",
      "41\n",
      "43\n",
      "47\n",
      "53\n",
      "59\n",
      "61\n",
      "67\n",
      "71\n"
     ]
    }
   ],
   "source": [
    "def prime_generator():\n",
    "  \"\"\"Generates prime numbers less than a given limit.\"\"\"\n",
    "  num = 2\n",
    "  while True:\n",
    "    is_prime = True\n",
    "    for i in range(2, int(num**0.5) + 1):  # Check for divisibility up to the square root\n",
    "      if num % i == 0:\n",
    "        is_prime = False\n",
    "        break\n",
    "    if is_prime:\n",
    "      yield num\n",
    "    num += 1\n",
    "\n",
    "primes = prime_generator()\n",
    "for _ in range(20):\n",
    "  print(next(primes))\n"
   ]
  },
  {
   "cell_type": "markdown",
   "id": "56c2e5e1",
   "metadata": {},
   "source": [
    "Q6. Write a python program to print the first 10 Fibonacci numbers using a while loop."
   ]
  },
  {
   "cell_type": "code",
   "execution_count": 71,
   "id": "553416ff",
   "metadata": {},
   "outputs": [
    {
     "name": "stdout",
     "output_type": "stream",
     "text": [
      "0 1 1 2 3 5 8 13 21 34 "
     ]
    }
   ],
   "source": [
    "def fibonacci_while(n):\n",
    "  \"\"\"Calculates the first n Fibonacci numbers using a while loop.\"\"\"\n",
    "  a, b = 0, 1\n",
    "  for _ in range(n):\n",
    "    print(a, end=\" \")\n",
    "    a, b = b, a + b\n",
    "\n",
    "fibonacci_while(10)  # Output: 0 1 1 2 3 5 8 13 21 34\n"
   ]
  },
  {
   "cell_type": "markdown",
   "id": "2efe8ff7",
   "metadata": {},
   "source": [
    "Q7. Write a List Comprehension to iterate through the given string: ‘pwskills’.\n",
    "Expected output: ['p', 'w', 's', 'k', 'i', 'l', 'l', 's']"
   ]
  },
  {
   "cell_type": "code",
   "execution_count": 72,
   "id": "7e5e0531",
   "metadata": {},
   "outputs": [],
   "source": [
    "string = \"pwskills\"\n",
    "characters = [char for char in string]\n"
   ]
  },
  {
   "cell_type": "markdown",
   "id": "a4e7450b",
   "metadata": {},
   "source": [
    "Q8. Write a python program to check whether a given number is Palindrome or not using a while loop."
   ]
  },
  {
   "cell_type": "code",
   "execution_count": 73,
   "id": "ba80824e",
   "metadata": {},
   "outputs": [
    {
     "name": "stdout",
     "output_type": "stream",
     "text": [
      "1221 is a palindrome.\n"
     ]
    }
   ],
   "source": [
    "def is_palindrome(num):\n",
    "  \"\"\"Checks if a number is a palindrome (reads the same backward as forward).\"\"\"\n",
    "  original_num = num\n",
    "  reversed_num = 0\n",
    "  while num > 0:\n",
    "    digit = num % 10\n",
    "    reversed_num = reversed_num * 10 + digit\n",
    "    num //= 10\n",
    "  return original_num == reversed_num\n",
    "\n",
    "# Example usage\n",
    "number = 1221\n",
    "if is_palindrome(number):\n",
    "  print(f\"{number} is a palindrome.\")\n",
    "else:\n",
    "  print(f\"{number} is not a palindrome.\")\n"
   ]
  },
  {
   "cell_type": "markdown",
   "id": "014346a0",
   "metadata": {},
   "source": [
    "Q9. Write a code to print odd numbers from 1 to 100 using list comprehension.\n",
    "Note: Use a list comprehension to create a list from 1 to 100 and use another List comprehension to filter\n",
    "out odd numbers."
   ]
  },
  {
   "cell_type": "code",
   "execution_count": 74,
   "id": "33147023",
   "metadata": {},
   "outputs": [
    {
     "name": "stdout",
     "output_type": "stream",
     "text": [
      "[1, 3, 5, 7, 9, 11, 13, 15, 17, 19, 21, 23, 25, 27, 29, 31, 33, 35, 37, 39, 41, 43, 45, 47, 49, 51, 53, 55, 57, 59, 61, 63, 65, 67, 69, 71, 73, 75, 77, 79, 81, 83, 85, 87, 89, 91, 93, 95, 97, 99]\n"
     ]
    }
   ],
   "source": [
    "odd_numbers = [num for num in range(1, 101) if num % 2 != 0]\n",
    "print(odd_numbers)\n"
   ]
  }
 ],
 "metadata": {
  "kernelspec": {
   "display_name": "Python 3 (ipykernel)",
   "language": "python",
   "name": "python3"
  },
  "language_info": {
   "codemirror_mode": {
    "name": "ipython",
    "version": 3
   },
   "file_extension": ".py",
   "mimetype": "text/x-python",
   "name": "python",
   "nbconvert_exporter": "python",
   "pygments_lexer": "ipython3",
   "version": "3.12.2"
  }
 },
 "nbformat": 4,
 "nbformat_minor": 5
}
